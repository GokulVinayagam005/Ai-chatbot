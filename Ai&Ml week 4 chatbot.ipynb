{
  "nbformat": 4,
  "nbformat_minor": 0,
  "metadata": {
    "colab": {
      "provenance": []
    },
    "kernelspec": {
      "name": "python3",
      "display_name": "Python 3"
    },
    "language_info": {
      "name": "python"
    }
  },
  "cells": [
    {
      "cell_type": "code",
      "execution_count": null,
      "metadata": {
        "colab": {
          "base_uri": "https://localhost:8080/"
        },
        "id": "wBJXZeYd08JT",
        "outputId": "3d81324b-f12f-4d4a-c0d4-731dc4ad20cc"
      },
      "outputs": [
        {
          "output_type": "stream",
          "name": "stdout",
          "text": [
            "🤖 Welcome to the AI Chatbot!\n",
            "Type 'exit' to quit.\n",
            "\n",
            "You: hi\n",
            "Bot: Hi there! What can I do for you?\n",
            "You: what is ai\n",
            "Bot: AI stands for Artificial Intelligence – the simulation of human intelligence in machines.\n",
            "You: who created you\n",
            "Bot: I was created as part of an AI & ML project using Python.\n",
            "You: thank you\n",
            "Bot: You're welcome!\n",
            "You: bye\n",
            "Bot: Goodbye! Have a great day!\n"
          ]
        }
      ],
      "source": [
        "# chatbot.py\n",
        "\n",
        "def get_bot_response(user_input):\n",
        "    responses = {\n",
        "        \"hello\": \"Hello! How can I assist you today?\",\n",
        "        \"hi\": \"Hi there! What can I do for you?\",\n",
        "        \"how are you\": \"I'm just a bot, but I'm here to help you!\",\n",
        "        \"what is your name\": \"I'm an AI chatbot developed in Python.\",\n",
        "        \"who created you\": \"I was created as part of an AI & ML project using Python.\",\n",
        "        \"bye\": \"Goodbye! Have a great day!\",\n",
        "        \"thank you\": \"You're welcome!\",\n",
        "        \"what is ai\": \"AI stands for Artificial Intelligence – the simulation of human intelligence in machines.\",\n",
        "        \"what is machine learning\": \"Machine Learning is a subset of AI that enables systems to learn from data.\",\n",
        "        \"tell me a joke\": \"Why don’t robots panic during exams? Because they have memory!\"\n",
        "    }\n",
        "\n",
        "    user_input = user_input.lower()\n",
        "    for key in responses:\n",
        "        if key in user_input:\n",
        "            return responses[key]\n",
        "    return \"Sorry, I didn't understand that. Please try asking differently.\"\n",
        "\n",
        "def main():\n",
        "    print(\"🤖 Welcome to the AI Chatbot!\")\n",
        "    print(\"Type 'exit' to quit.\\n\")\n",
        "\n",
        "    while True:\n",
        "        user_input = input(\"You: \")\n",
        "        if user_input.lower() == \"exit\":\n",
        "            print(\"Bot: Goodbye!\")\n",
        "            break\n",
        "\n",
        "        response = get_bot_response(user_input)\n",
        "        print(f\"Bot: {response}\")\n",
        "\n",
        "if __name__ == \"__main__\":\n",
        "    main()\n"
      ]
    }
  ]
}